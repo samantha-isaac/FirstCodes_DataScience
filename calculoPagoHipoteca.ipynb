{
  "nbformat": 4,
  "nbformat_minor": 0,
  "metadata": {
    "colab": {
      "provenance": [],
      "toc_visible": true,
      "authorship_tag": "ABX9TyMek7OondQmtMyoHRLfTUIi",
      "include_colab_link": true
    },
    "kernelspec": {
      "name": "python3",
      "display_name": "Python 3"
    },
    "language_info": {
      "name": "python"
    }
  },
  "cells": [
    {
      "cell_type": "markdown",
      "metadata": {
        "id": "view-in-github",
        "colab_type": "text"
      },
      "source": [
        "<a href=\"https://colab.research.google.com/github/0Kyumy0/FirstCodes_DataScience/blob/Learning_Colaboratory/calculoPagoHipoteca.ipynb\" target=\"_parent\"><img src=\"https://colab.research.google.com/assets/colab-badge.svg\" alt=\"Open In Colab\"/></a>"
      ]
    },
    {
      "cell_type": "markdown",
      "source": [
        "# Ejercicio de pago de hipoteca"
      ],
      "metadata": {
        "id": "RtDF-F-Pb5W4"
      }
    },
    {
      "cell_type": "markdown",
      "source": [
        "1) ¿De cuánto será el pago mensual de una hipoteca a 30 años (30 * 12 = 360 meses de plazo) con un capital de 400 000 dólares y un 3 % TAE (tasa de interés con comisiones incluidas)? "
      ],
      "metadata": {
        "id": "ZpREIApethSB"
      }
    },
    {
      "cell_type": "code",
      "execution_count": null,
      "metadata": {
        "colab": {
          "base_uri": "https://localhost:8080/"
        },
        "id": "UQgl-ZvytZpJ",
        "outputId": "7015baec-cbee-4378-a50f-a34d1058af3e"
      },
      "outputs": [
        {
          "output_type": "stream",
          "name": "stdout",
          "text": [
            "1686.416\n"
          ]
        }
      ],
      "source": [
        "p = 400000\n",
        "r = (3/12)/100\n",
        "n = 360\n",
        "\n",
        "resultado = p*((r*((1+r)**n))/(((1+r)**n)-1))\n",
        "\n",
        "# round para imprimir el resultado con 3 decimales\n",
        "print(round(resultado, 3))"
      ]
    },
    {
      "cell_type": "markdown",
      "source": [
        "2) ¿Cuánto es el pago mensual si la tasa de interés es del 6 %? (utilicen la misma duración del plazo y el mismo principio)"
      ],
      "metadata": {
        "id": "EoL38ZxAApvS"
      }
    },
    {
      "cell_type": "code",
      "source": [
        "p = 400000\n",
        "r = (6/12)/100\n",
        "n = 360\n",
        "\n",
        "resultado = p*((r*((1+r)**n))/(((1+r)**n)-1))\n",
        "\n",
        "# round para imprimir el resultado con 3 decimales\n",
        "print(round(resultado, 3))"
      ],
      "metadata": {
        "colab": {
          "base_uri": "https://localhost:8080/"
        },
        "id": "pFP-UAyyAo9S",
        "outputId": "5449483d-1e0a-4810-92c8-9d145e663004"
      },
      "execution_count": null,
      "outputs": [
        {
          "output_type": "stream",
          "name": "stdout",
          "text": [
            "2398.202\n"
          ]
        }
      ]
    }
  ]
}