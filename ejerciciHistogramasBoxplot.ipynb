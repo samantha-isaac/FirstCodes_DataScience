{
  "nbformat": 4,
  "nbformat_minor": 0,
  "metadata": {
    "colab": {
      "provenance": [],
      "toc_visible": true,
      "mount_file_id": "1IavqQ9kVVBYW8Q27j6PCBl7ftrGD_mvO",
      "authorship_tag": "ABX9TyPoYUc3KKp4oLrxAg4peA9t",
      "include_colab_link": true
    },
    "kernelspec": {
      "name": "python3",
      "display_name": "Python 3"
    },
    "language_info": {
      "name": "python"
    }
  },
  "cells": [
    {
      "cell_type": "markdown",
      "metadata": {
        "id": "view-in-github",
        "colab_type": "text"
      },
      "source": [
        "<a href=\"https://colab.research.google.com/github/0Kyumy0/FirstCodes_DataScience/blob/matplotlib/ejerciciHistogramasBoxplot.ipynb\" target=\"_parent\"><img src=\"https://colab.research.google.com/assets/colab-badge.svg\" alt=\"Open In Colab\"/></a>"
      ]
    },
    {
      "cell_type": "code",
      "execution_count": 2,
      "metadata": {
        "id": "hgi_wyJ6XKO8"
      },
      "outputs": [],
      "source": [
        "import pandas as pd\n",
        "import numpy as np\n",
        "import seaborn as sns\n",
        "import matplotlib.pyplot as plt"
      ]
    },
    {
      "cell_type": "code",
      "source": [
        "filename = '/content/drive/MyDrive/DataScience/BasesDeDatos/catsvdogs.xlsx'\n",
        "df = pd.read_excel(filename)\n",
        "df.head()"
      ],
      "metadata": {
        "colab": {
          "base_uri": "https://localhost:8080/",
          "height": 285
        },
        "id": "90nyjavpX7GF",
        "outputId": "ffac2b1c-7b4f-4366-ee82-a4092e86c5b6"
      },
      "execution_count": 55,
      "outputs": [
        {
          "output_type": "execute_result",
          "data": {
            "text/plain": [
              "     Location  Number of Households (in 1000)  \\\n",
              "0     Alabama                            1828   \n",
              "1     Arizona                            2515   \n",
              "2    Arkansas                            1148   \n",
              "3  California                           12974   \n",
              "4    Colorado                            1986   \n",
              "\n",
              "   Percentage of households with pets  Number of Pet Households (in 1000)  \\\n",
              "0                                59.5                                1088   \n",
              "1                                59.5                                1497   \n",
              "2                                62.4                                 716   \n",
              "3                                52.9                                6865   \n",
              "4                                61.3                                1217   \n",
              "\n",
              "   Percentage of Dog Owners  Dog Owning Households (1000s)  \\\n",
              "0                      44.1                            807   \n",
              "1                      40.1                           1008   \n",
              "2                      47.9                            550   \n",
              "3                      32.8                           4260   \n",
              "4                      42.5                            845   \n",
              "\n",
              "   Mean Number of Dogs per household  Dog Population (in 1000)  \\\n",
              "0                                1.7                      1410   \n",
              "1                                1.8                      1798   \n",
              "2                                2.0                      1097   \n",
              "3                                1.6                      6687   \n",
              "4                                1.6                      1349   \n",
              "\n",
              "   Percentage of Cat Owners  Cat Owning Households  Mean Number of Cats  \\\n",
              "0                      27.4                    501                  2.5   \n",
              "1                      29.6                    743                  1.9   \n",
              "2                      30.6                    351                  2.3   \n",
              "3                      28.3                   3687                  1.9   \n",
              "4                      32.3                    642                  1.9   \n",
              "\n",
              "   Cat Population  \n",
              "0            1252  \n",
              "1            1438  \n",
              "2             810  \n",
              "3            7118  \n",
              "4            1191  "
            ],
            "text/html": [
              "\n",
              "  <div id=\"df-fdc7f110-4a87-4bc9-9a31-77d010822348\">\n",
              "    <div class=\"colab-df-container\">\n",
              "      <div>\n",
              "<style scoped>\n",
              "    .dataframe tbody tr th:only-of-type {\n",
              "        vertical-align: middle;\n",
              "    }\n",
              "\n",
              "    .dataframe tbody tr th {\n",
              "        vertical-align: top;\n",
              "    }\n",
              "\n",
              "    .dataframe thead th {\n",
              "        text-align: right;\n",
              "    }\n",
              "</style>\n",
              "<table border=\"1\" class=\"dataframe\">\n",
              "  <thead>\n",
              "    <tr style=\"text-align: right;\">\n",
              "      <th></th>\n",
              "      <th>Location</th>\n",
              "      <th>Number of Households (in 1000)</th>\n",
              "      <th>Percentage of households with pets</th>\n",
              "      <th>Number of Pet Households (in 1000)</th>\n",
              "      <th>Percentage of Dog Owners</th>\n",
              "      <th>Dog Owning Households (1000s)</th>\n",
              "      <th>Mean Number of Dogs per household</th>\n",
              "      <th>Dog Population (in 1000)</th>\n",
              "      <th>Percentage of Cat Owners</th>\n",
              "      <th>Cat Owning Households</th>\n",
              "      <th>Mean Number of Cats</th>\n",
              "      <th>Cat Population</th>\n",
              "    </tr>\n",
              "  </thead>\n",
              "  <tbody>\n",
              "    <tr>\n",
              "      <th>0</th>\n",
              "      <td>Alabama</td>\n",
              "      <td>1828</td>\n",
              "      <td>59.5</td>\n",
              "      <td>1088</td>\n",
              "      <td>44.1</td>\n",
              "      <td>807</td>\n",
              "      <td>1.7</td>\n",
              "      <td>1410</td>\n",
              "      <td>27.4</td>\n",
              "      <td>501</td>\n",
              "      <td>2.5</td>\n",
              "      <td>1252</td>\n",
              "    </tr>\n",
              "    <tr>\n",
              "      <th>1</th>\n",
              "      <td>Arizona</td>\n",
              "      <td>2515</td>\n",
              "      <td>59.5</td>\n",
              "      <td>1497</td>\n",
              "      <td>40.1</td>\n",
              "      <td>1008</td>\n",
              "      <td>1.8</td>\n",
              "      <td>1798</td>\n",
              "      <td>29.6</td>\n",
              "      <td>743</td>\n",
              "      <td>1.9</td>\n",
              "      <td>1438</td>\n",
              "    </tr>\n",
              "    <tr>\n",
              "      <th>2</th>\n",
              "      <td>Arkansas</td>\n",
              "      <td>1148</td>\n",
              "      <td>62.4</td>\n",
              "      <td>716</td>\n",
              "      <td>47.9</td>\n",
              "      <td>550</td>\n",
              "      <td>2.0</td>\n",
              "      <td>1097</td>\n",
              "      <td>30.6</td>\n",
              "      <td>351</td>\n",
              "      <td>2.3</td>\n",
              "      <td>810</td>\n",
              "    </tr>\n",
              "    <tr>\n",
              "      <th>3</th>\n",
              "      <td>California</td>\n",
              "      <td>12974</td>\n",
              "      <td>52.9</td>\n",
              "      <td>6865</td>\n",
              "      <td>32.8</td>\n",
              "      <td>4260</td>\n",
              "      <td>1.6</td>\n",
              "      <td>6687</td>\n",
              "      <td>28.3</td>\n",
              "      <td>3687</td>\n",
              "      <td>1.9</td>\n",
              "      <td>7118</td>\n",
              "    </tr>\n",
              "    <tr>\n",
              "      <th>4</th>\n",
              "      <td>Colorado</td>\n",
              "      <td>1986</td>\n",
              "      <td>61.3</td>\n",
              "      <td>1217</td>\n",
              "      <td>42.5</td>\n",
              "      <td>845</td>\n",
              "      <td>1.6</td>\n",
              "      <td>1349</td>\n",
              "      <td>32.3</td>\n",
              "      <td>642</td>\n",
              "      <td>1.9</td>\n",
              "      <td>1191</td>\n",
              "    </tr>\n",
              "  </tbody>\n",
              "</table>\n",
              "</div>\n",
              "      <button class=\"colab-df-convert\" onclick=\"convertToInteractive('df-fdc7f110-4a87-4bc9-9a31-77d010822348')\"\n",
              "              title=\"Convert this dataframe to an interactive table.\"\n",
              "              style=\"display:none;\">\n",
              "        \n",
              "  <svg xmlns=\"http://www.w3.org/2000/svg\" height=\"24px\"viewBox=\"0 0 24 24\"\n",
              "       width=\"24px\">\n",
              "    <path d=\"M0 0h24v24H0V0z\" fill=\"none\"/>\n",
              "    <path d=\"M18.56 5.44l.94 2.06.94-2.06 2.06-.94-2.06-.94-.94-2.06-.94 2.06-2.06.94zm-11 1L8.5 8.5l.94-2.06 2.06-.94-2.06-.94L8.5 2.5l-.94 2.06-2.06.94zm10 10l.94 2.06.94-2.06 2.06-.94-2.06-.94-.94-2.06-.94 2.06-2.06.94z\"/><path d=\"M17.41 7.96l-1.37-1.37c-.4-.4-.92-.59-1.43-.59-.52 0-1.04.2-1.43.59L10.3 9.45l-7.72 7.72c-.78.78-.78 2.05 0 2.83L4 21.41c.39.39.9.59 1.41.59.51 0 1.02-.2 1.41-.59l7.78-7.78 2.81-2.81c.8-.78.8-2.07 0-2.86zM5.41 20L4 18.59l7.72-7.72 1.47 1.35L5.41 20z\"/>\n",
              "  </svg>\n",
              "      </button>\n",
              "      \n",
              "  <style>\n",
              "    .colab-df-container {\n",
              "      display:flex;\n",
              "      flex-wrap:wrap;\n",
              "      gap: 12px;\n",
              "    }\n",
              "\n",
              "    .colab-df-convert {\n",
              "      background-color: #E8F0FE;\n",
              "      border: none;\n",
              "      border-radius: 50%;\n",
              "      cursor: pointer;\n",
              "      display: none;\n",
              "      fill: #1967D2;\n",
              "      height: 32px;\n",
              "      padding: 0 0 0 0;\n",
              "      width: 32px;\n",
              "    }\n",
              "\n",
              "    .colab-df-convert:hover {\n",
              "      background-color: #E2EBFA;\n",
              "      box-shadow: 0px 1px 2px rgba(60, 64, 67, 0.3), 0px 1px 3px 1px rgba(60, 64, 67, 0.15);\n",
              "      fill: #174EA6;\n",
              "    }\n",
              "\n",
              "    [theme=dark] .colab-df-convert {\n",
              "      background-color: #3B4455;\n",
              "      fill: #D2E3FC;\n",
              "    }\n",
              "\n",
              "    [theme=dark] .colab-df-convert:hover {\n",
              "      background-color: #434B5C;\n",
              "      box-shadow: 0px 1px 3px 1px rgba(0, 0, 0, 0.15);\n",
              "      filter: drop-shadow(0px 1px 2px rgba(0, 0, 0, 0.3));\n",
              "      fill: #FFFFFF;\n",
              "    }\n",
              "  </style>\n",
              "\n",
              "      <script>\n",
              "        const buttonEl =\n",
              "          document.querySelector('#df-fdc7f110-4a87-4bc9-9a31-77d010822348 button.colab-df-convert');\n",
              "        buttonEl.style.display =\n",
              "          google.colab.kernel.accessAllowed ? 'block' : 'none';\n",
              "\n",
              "        async function convertToInteractive(key) {\n",
              "          const element = document.querySelector('#df-fdc7f110-4a87-4bc9-9a31-77d010822348');\n",
              "          const dataTable =\n",
              "            await google.colab.kernel.invokeFunction('convertToInteractive',\n",
              "                                                     [key], {});\n",
              "          if (!dataTable) return;\n",
              "\n",
              "          const docLinkHtml = 'Like what you see? Visit the ' +\n",
              "            '<a target=\"_blank\" href=https://colab.research.google.com/notebooks/data_table.ipynb>data table notebook</a>'\n",
              "            + ' to learn more about interactive tables.';\n",
              "          element.innerHTML = '';\n",
              "          dataTable['output_type'] = 'display_data';\n",
              "          await google.colab.output.renderOutput(dataTable, element);\n",
              "          const docLink = document.createElement('div');\n",
              "          docLink.innerHTML = docLinkHtml;\n",
              "          element.appendChild(docLink);\n",
              "        }\n",
              "      </script>\n",
              "    </div>\n",
              "  </div>\n",
              "  "
            ]
          },
          "metadata": {},
          "execution_count": 55
        }
      ]
    },
    {
      "cell_type": "code",
      "source": [],
      "metadata": {
        "id": "SHZTXPPjq8rH"
      },
      "execution_count": null,
      "outputs": []
    },
    {
      "cell_type": "markdown",
      "source": [
        "## 1. Tracen un histograma del porcentaje de dueños de perros."
      ],
      "metadata": {
        "id": "WFA-b_tXYiT0"
      }
    },
    {
      "cell_type": "code",
      "source": [
        "df.info()"
      ],
      "metadata": {
        "colab": {
          "base_uri": "https://localhost:8080/"
        },
        "id": "eKuGWY8PY2Hl",
        "outputId": "e83913a1-d3b7-4cae-f996-ffd294407f1c"
      },
      "execution_count": 5,
      "outputs": [
        {
          "output_type": "stream",
          "name": "stdout",
          "text": [
            "<class 'pandas.core.frame.DataFrame'>\n",
            "RangeIndex: 49 entries, 0 to 48\n",
            "Data columns (total 12 columns):\n",
            " #   Column                              Non-Null Count  Dtype  \n",
            "---  ------                              --------------  -----  \n",
            " 0   Location                            49 non-null     object \n",
            " 1   Number of Households (in 1000)      49 non-null     int64  \n",
            " 2   Percentage of households with pets  49 non-null     float64\n",
            " 3   Number of Pet Households (in 1000)  49 non-null     int64  \n",
            " 4   Percentage of Dog Owners            49 non-null     float64\n",
            " 5   Dog Owning Households (1000s)       49 non-null     int64  \n",
            " 6   Mean Number of Dogs per household   49 non-null     float64\n",
            " 7   Dog Population (in 1000)            49 non-null     int64  \n",
            " 8   Percentage of Cat Owners            49 non-null     float64\n",
            " 9   Cat Owning Households               49 non-null     int64  \n",
            " 10  Mean Number of Cats                 49 non-null     float64\n",
            " 11  Cat Population                      49 non-null     int64  \n",
            "dtypes: float64(5), int64(6), object(1)\n",
            "memory usage: 4.7+ KB\n"
          ]
        }
      ]
    },
    {
      "cell_type": "code",
      "source": [
        "plt.style.use(\"seaborn-v0_8\") # se usa diferente para que no de el error de la diferencia de versiones\n",
        "df['Percentage of Dog Owners'].hist(edgecolor='black');\n",
        "\n",
        "plt.title(\"Distribution of Percentage of Dog Owners\");\n",
        "plt.xlabel('Percentage of Dog Owners');\n",
        "plt.ylabel(\"Frequency\");"
      ],
      "metadata": {
        "colab": {
          "base_uri": "https://localhost:8080/",
          "height": 376
        },
        "id": "ZIy1IAgvYlV0",
        "outputId": "74f06851-e39c-4a31-dda6-1b75dc4608e2"
      },
      "execution_count": 57,
      "outputs": [
        {
          "output_type": "display_data",
          "data": {
            "text/plain": [
              "<Figure size 576x396 with 1 Axes>"
            ],
            "image/png": "[encoded data removed]"
          },
          "metadata": {}
        }
      ]
    },
    {
      "cell_type": "markdown",
      "source": [
        "## 2. Tracen un histograma del porcentaje de dueños de gatos."
      ],
      "metadata": {
        "id": "caEAOQ9EdbEj"
      }
    },
    {
      "cell_type": "code",
      "source": [
        "plt.style.use(\"seaborn-v0_8\")\n",
        "df['Percentage of Cat Owners'].hist(color='#FFA500', edgecolor='black');\n",
        "\n",
        "plt.title(\"Distribution of Percentage of Cat Owners\");\n",
        "plt.xlabel('Percentage of Cat Owners');\n",
        "plt.ylabel(\"Frequency\");"
      ],
      "metadata": {
        "colab": {
          "base_uri": "https://localhost:8080/",
          "height": 376
        },
        "id": "ZTIIF8ENdcJb",
        "outputId": "846e435b-2410-4a16-dbb8-6567e0e634fe"
      },
      "execution_count": 66,
      "outputs": [
        {
          "output_type": "display_data",
          "data": {
            "text/plain": [
              "<Figure size 576x396 with 1 Axes>"
            ],
            "image/png": "[encoded data removed]"
          },
          "metadata": {}
        }
      ]
    },
    {
      "cell_type": "markdown",
      "source": [
        "## 3a. ¿Qué podemos ver al comparar estos dos histogramas? ¿Qué información nos dice?"
      ],
      "metadata": {
        "id": "uY3V3woFd3es"
      }
    },
    {
      "cell_type": "markdown",
      "source": [
        "* El punto más alto para la frecuencia de dueños de ambas mascotas está entre el 30% y el 35%.\n",
        "* Se presenta una frecuencia alta y constante en los dueños de perros que de gatos.\n",
        "* Los dueños de los gatos presentan una frecuencia más alta pero bajan drásticamente después del punto más alto."
      ],
      "metadata": {
        "id": "E9MLGdAdd6Zq"
      }
    },
    {
      "cell_type": "markdown",
      "source": [
        "## 3b. **Opcional/bono**: tracen estos dos histogramas en el mismo trazado. Un ejemplo de lo que debería verse se proporciona abajo:\n",
        "\n"
      ],
      "metadata": {
        "id": "sRcxGs3re2Kj"
      }
    },
    {
      "cell_type": "code",
      "source": [
        "plt.style.use(\"seaborn-v0_8\")\n",
        "df['Percentage of Cat Owners'].hist(bins=15, edgecolor='black');\n",
        "df['Percentage of Dog Owners'].hist(bins=15, alpha = 0.7, color='#FFA500', edgecolor='black');\n",
        "plt.legend(['Cat Owners', 'Dog Owners'])\n",
        "plt.title(\"Distribution of Percentage of Pet Owners\");\n",
        "plt.xlabel('Percentage of Owners');\n",
        "plt.ylabel(\"Frequency\");"
      ],
      "metadata": {
        "colab": {
          "base_uri": "https://localhost:8080/",
          "height": 376
        },
        "id": "ifNWw_Lkes6j",
        "outputId": "6cc5bd77-8182-41c4-f1fc-161ee018584b"
      },
      "execution_count": 86,
      "outputs": [
        {
          "output_type": "display_data",
          "data": {
            "text/plain": [
              "<Figure size 576x396 with 1 Axes>"
            ],
            "image/png": "[encoded data removed]"
          },
          "metadata": {}
        }
      ]
    },
    {
      "cell_type": "markdown",
      "source": [
        "## 4. Creen dos boxplots en mismo trazado: uno en la media del número de gatos por hogar y el otro de la media del número de perros. Un ejemplo de lo que debería verse se proporciona abajo:"
      ],
      "metadata": {
        "id": "MpDz-Z1ZjZnI"
      }
    },
    {
      "cell_type": "code",
      "source": [
        "mean_cats = df['Mean Number of Cats']\n",
        "mean_dogs = df['Mean Number of Dogs per household']\n",
        "\n",
        "bplot1 = plt.boxplot([mean_cats, mean_dogs], \n",
        "                     labels = ['Cats', 'Dogs'], \n",
        "                     notch = True, \n",
        "                     patch_artist=True, \n",
        "                     medianprops={'color': 'red', 'linewidth': 2});\n",
        "\n",
        "# Establecer el color de relleno de cada boxplot\n",
        "colors = ['lightyellow', 'lightblue']\n",
        "for patch, color in zip(bplot1['boxes'], colors):\n",
        "    patch.set_facecolor(color)\n",
        "\n",
        "\n",
        "plt.title(\"Mean Percentage of Pet Owners\");\n",
        "plt.ylabel(\"Mean\");\n",
        "plt.show()"
      ],
      "metadata": {
        "colab": {
          "base_uri": "https://localhost:8080/",
          "height": 362
        },
        "id": "rYVQMQcRjeD6",
        "outputId": "62e84b01-ccee-4a1d-cee8-fc7320b40f99"
      },
      "execution_count": 118,
      "outputs": [
        {
          "output_type": "display_data",
          "data": {
            "text/plain": [
              "<Figure size 576x396 with 1 Axes>"
            ],
            "image/png": "[encoded data removed]"
          },
          "metadata": {}
        }
      ]
    },
    {
      "cell_type": "markdown",
      "source": [
        "## 5. ¿Qué podemos ver al comparar estos dos boxplots? ¿Qué información nos dice?"
      ],
      "metadata": {
        "id": "1NG9VDh2_tgi"
      }
    },
    {
      "cell_type": "markdown",
      "source": [
        "* Es mayor la media de dueños de gatos que de perros.\n",
        "* Son más los dueños de gatos que de perros."
      ],
      "metadata": {
        "id": "aDi26BzS_u6a"
      }
    }
  ]
}